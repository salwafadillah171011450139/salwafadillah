{
  "nbformat": 4,
  "nbformat_minor": 0,
  "metadata": {
    "kernelspec": {
      "display_name": "Python 3",
      "language": "python",
      "name": "python3"
    },
    "language_info": {
      "codemirror_mode": {
        "name": "ipython",
        "version": 3
      },
      "file_extension": ".py",
      "mimetype": "text/x-python",
      "name": "python",
      "nbconvert_exporter": "python",
      "pygments_lexer": "ipython3",
      "version": "3.7.6"
    },
    "papermill": {
      "duration": 6.644714,
      "end_time": "2021-01-07T16:07:28.248751",
      "environment_variables": {},
      "exception": null,
      "input_path": "__notebook__.ipynb",
      "output_path": "__notebook__.ipynb",
      "parameters": {},
      "start_time": "2021-01-07T16:07:21.604037",
      "version": "2.1.0"
    },
    "colab": {
      "name": "salwafadillah-random-forest.ipynb",
      "provenance": [],
      "include_colab_link": true
    }
  },
  "cells": [
    {
      "cell_type": "markdown",
      "metadata": {
        "id": "view-in-github",
        "colab_type": "text"
      },
      "source": [
        "<a href=\"https://colab.research.google.com/github/salwafadillah171011450139/salwafadillah/blob/main/salwafadillah_random_forest.ipynb\" target=\"_parent\"><img src=\"https://colab.research.google.com/assets/colab-badge.svg\" alt=\"Open In Colab\"/></a>"
      ]
    },
    {
      "cell_type": "code",
      "metadata": {
        "_cell_guid": "b1076dfc-b9ad-4769-8c92-a6c4dae69d19",
        "_uuid": "8f2839f25d086af736a60e9eeb907d3b93b6e0e5",
        "execution": {
          "iopub.execute_input": "2021-01-07T16:07:26.126492Z",
          "iopub.status.busy": "2021-01-07T16:07:26.125935Z",
          "iopub.status.idle": "2021-01-07T16:07:26.131417Z",
          "shell.execute_reply": "2021-01-07T16:07:26.131886Z"
        },
        "papermill": {
          "duration": 0.01191,
          "end_time": "2021-01-07T16:07:26.132095",
          "exception": false,
          "start_time": "2021-01-07T16:07:26.120185",
          "status": "completed"
        },
        "tags": [],
        "id": "PpgcIkbonHH7"
      },
      "source": [
        "# This Python 3 environment comes with many helpful analytics libraries installed\n",
        "# It is defined by the kaggle/python Docker image: https://github.com/kaggle/docker-python\n",
        "# For example, here's several helpful packages to load\n",
        "\n",
        "import numpy as np # linear algebra\n",
        "import pandas as pd # data processing, CSV file I/O (e.g. pd.read_csv)\n",
        "\n",
        "# Input data files are available in the read-only \"../input/\" directory\n",
        "# For example, running this (by clicking run or pressing Shift+Enter) will list all files under the input directory\n",
        "\n",
        "import os\n",
        "for dirname, _, filenames in os.walk('/kaggle/input'):\n",
        "    for filename in filenames:\n",
        "        print(os.path.join(dirname, filename))\n",
        "\n",
        "# You can write up to 20GB to the current directory (/kaggle/working/) that gets preserved as output when you create a version using \"Save & Run All\" \n",
        "# You can also write temporary files to /kaggle/temp/, but they won't be saved outside of the current session"
      ],
      "execution_count": 1,
      "outputs": []
    },
    {
      "cell_type": "code",
      "metadata": {
        "_cell_guid": "79c7e3d0-c299-4dcb-8224-4455121ee9b0",
        "_uuid": "d629ff2d2480ee46fbb7e2d37f6b5fab8052498a",
        "collapsed": true,
        "execution": {
          "iopub.execute_input": "2021-01-07T16:07:26.140264Z",
          "iopub.status.busy": "2021-01-07T16:07:26.139699Z",
          "iopub.status.idle": "2021-01-07T16:07:28.135222Z",
          "shell.execute_reply": "2021-01-07T16:07:28.134718Z"
        },
        "papermill": {
          "duration": 2.000146,
          "end_time": "2021-01-07T16:07:28.135338",
          "exception": false,
          "start_time": "2021-01-07T16:07:26.135192",
          "status": "completed"
        },
        "tags": [],
        "colab": {
          "base_uri": "https://localhost:8080/",
          "height": 665
        },
        "id": "NdRg2E48nHIC",
        "outputId": "d8d5c449-6d2b-4fb8-8d34-2b34e3f469ca"
      },
      "source": [
        "import numpy as np\n",
        "import matplotlib.pyplot as plt\n",
        "import seaborn as sns\n",
        "\n",
        "# Game 1\n",
        "simulations = 200  # number of Monte Carlo Simulations\n",
        "games = 10         # number of times the game is played\n",
        "threshold = 5      # threshold where if greater than or equal to you win\n",
        "bet = 1              # dollar bet for the game\n",
        "\n",
        "# outer loop is Monte Carlo sims and inner loop is games played\n",
        "sim_results_1 = []\n",
        "for sim in range(simulations):\n",
        "    result = []\n",
        "    for g in range(games):\n",
        "        number = int(np.random.uniform()*10)  # get a random number to see who wins\n",
        "        if number >= threshold:\n",
        "            result.append(bet)\n",
        "        else:\n",
        "            result.append(-bet)\n",
        "    sim_results_1.append(sum(result))          # sim_results_1 stores results for Game 1\n",
        "print('Game 1 Mean: ', round(np.mean(sim_results_1), 2))\n",
        "print('Game 1 Prob Positive: ', round(sum([1 for i in sim_results_1 if i>0])/simulations, 2))\n",
        "print('\\n')\n",
        "    \n",
        "\n",
        "# Game 2 (structure of code is same as above)\n",
        "simulations = 200\n",
        "games = 5\n",
        "threshold = 5\n",
        "bet = 5\n",
        "\n",
        "sim_results_2 = []\n",
        "for sim in range(simulations):\n",
        "    result = []\n",
        "    for g in range(games):\n",
        "        number = int(np.random.uniform()*10)\n",
        "        if number >= threshold:\n",
        "            result.append(bet)\n",
        "        else:\n",
        "            result.append(-bet)\n",
        "    sim_results_2.append(sum(result))\n",
        "print('Game 2 Mean: ', round(np.mean(sim_results_2), 2))\n",
        "print('Game 2 Prob Positive: ', round(sum([1 for i in sim_results_2 if i>0])/simulations, 2))\n",
        "print('\\n')\n",
        "    \n",
        "    \n",
        "# Game 3 (structure of code is same as above)\n",
        "simulations = 200\n",
        "games = 1\n",
        "threshold = 5\n",
        "bet = 10\n",
        "\n",
        "sim_results_3 = []\n",
        "for sim in range(simulations):\n",
        "    result = []\n",
        "    for g in range(games):\n",
        "        number = int(np.random.uniform()*10)\n",
        "        if number >= threshold:\n",
        "            result.append(bet)\n",
        "        else:\n",
        "            result.append(-bet)\n",
        "    sim_results_3.append(sum(result))\n",
        "print('Game 3 Mean: ', round(np.mean(sim_results_3), 2))\n",
        "print('Game 3 Prob Positive: ', round(sum([1 for i in sim_results_3 if i>0])/simulations, 2))\n",
        "\n",
        "\n",
        "# Histogram that shows the distribution of the Monte Carlo Results for 2 spending levels\n",
        "fig, ax = plt.subplots(figsize=(8,6))\n",
        "sns.distplot(sim_results_1, kde=False, bins=60, label='Play 10 Times')\n",
        "sns.distplot(sim_results_2, kde=False, bins=60, label='Play 5 Times')\n",
        "sns.distplot(sim_results_3, kde=False, bins=60, label='Play 1 Time', color='red')\n",
        "\n",
        "ax.set_xlabel('Money Won by You (The Player)', fontsize=16)\n",
        "ax.set_ylabel('Frequency',fontsize=16)\n",
        "plt.legend()\n",
        "plt.tight_layout()\n",
        "\n",
        "plt.savefig(fname='game_hist', dpi=150)\n",
        "plt.show()\n"
      ],
      "execution_count": 2,
      "outputs": [
        {
          "output_type": "stream",
          "text": [
            "Game 1 Mean:  -0.48\n",
            "Game 1 Prob Positive:  0.36\n",
            "\n",
            "\n",
            "Game 2 Mean:  0.1\n",
            "Game 2 Prob Positive:  0.51\n",
            "\n",
            "\n",
            "Game 3 Mean:  0.8\n",
            "Game 3 Prob Positive:  0.54\n"
          ],
          "name": "stdout"
        },
        {
          "output_type": "stream",
          "text": [
            "/usr/local/lib/python3.6/dist-packages/seaborn/distributions.py:2551: FutureWarning: `distplot` is a deprecated function and will be removed in a future version. Please adapt your code to use either `displot` (a figure-level function with similar flexibility) or `histplot` (an axes-level function for histograms).\n",
            "  warnings.warn(msg, FutureWarning)\n"
          ],
          "name": "stderr"
        },
        {
          "output_type": "display_data",
          "data": {
            "image/png": "[encoded data removed]",
            "text/plain": [
              "<Figure size 576x432 with 1 Axes>"
            ]
          },
          "metadata": {
            "tags": [],
            "needs_background": "light"
          }
        }
      ]
    }
  ]
}